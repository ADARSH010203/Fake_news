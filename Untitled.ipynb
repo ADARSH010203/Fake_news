{
 "cells": [
  {
   "cell_type": "code",
   "execution_count": 100,
   "id": "f734748e-e2cb-46b3-99c5-a55c24def532",
   "metadata": {},
   "outputs": [],
   "source": [
    "import pandas as pd\n",
    "import seaborn as sns\n",
    "import matplotlib.pyplot as plt\n",
    "import numpy as np\n",
    "from sklearn.preprocessing import StandardScaler,LabelEncoder\n",
    "from sklearn.decomposition import PCA\n",
    "import matplotlib.pylab as rcParams\n",
    "from sklearn.cluster import KMeans\n",
    "\n",
    "from sklearn.linear_model import LinearRegression\n",
    "from sklearn.tree import DecisionTreeClassifier\n",
    "from sklearn.tree import DecisionTreeClassifier\n",
    "from sklearn.ensemble import RandomForestClassifier\n",
    "from sklearn.svm import SVC\n",
    "from sklearn.metrics import classification_report\n",
    "from sklearn.metrics import accuracy_score,r2_score,mean_absolute_error\n",
    "from sklearn.model_selection import train_test_split\n",
    "from sklearn.tree import plot_tree"
   ]
  },
  {
   "cell_type": "code",
   "execution_count": 42,
   "id": "7bd0a509-7141-4df9-a7ce-3bc10a4cd2cf",
   "metadata": {},
   "outputs": [],
   "source": [
    "a = pd.read_csv('adult.csv')\n"
   ]
  },
  {
   "cell_type": "code",
   "execution_count": 43,
   "id": "1d45af56-7d6e-481d-8d1d-148ae5528967",
   "metadata": {},
   "outputs": [
    {
     "data": {
      "text/plain": [
       "<Axes: xlabel='income', ylabel='age'>"
      ]
     },
     "execution_count": 43,
     "metadata": {},
     "output_type": "execute_result"
    },
    {
     "data": {
      "image/png": "[encoded data removed]",
      "text/plain": [
       "<Figure size 640x480 with 1 Axes>"
      ]
     },
     "metadata": {},
     "output_type": "display_data"
    }
   ],
   "source": [
    "sns.barplot(x='income',y = 'age',data=a)"
   ]
  },
  {
   "cell_type": "code",
   "execution_count": 44,
   "id": "d23599ab-fd4d-48d5-9a7c-7d2b4c278861",
   "metadata": {},
   "outputs": [],
   "source": [
    "a = a.replace('?',pd.NA).dropna()"
   ]
  },
  {
   "cell_type": "code",
   "execution_count": 21,
   "id": "78c49de3-0f90-49ef-963c-9d2c8c9e84c2",
   "metadata": {},
   "outputs": [
    {
     "data": {
      "text/plain": [
       "age               0\n",
       "workclass         0\n",
       "fnlwgt            0\n",
       "education         0\n",
       "education.num     0\n",
       "marital.status    0\n",
       "occupation        0\n",
       "relationship      0\n",
       "race              0\n",
       "sex               0\n",
       "capital.gain      0\n",
       "capital.loss      0\n",
       "hours.per.week    0\n",
       "native.country    0\n",
       "income            0\n",
       "dtype: int64"
      ]
     },
     "execution_count": 21,
     "metadata": {},
     "output_type": "execute_result"
    }
   ],
   "source": [
    "a.isnull().sum()"
   ]
  },
  {
   "cell_type": "code",
   "execution_count": 22,
   "id": "72b90ced-19be-4fa4-8f76-69cd34b6f731",
   "metadata": {},
   "outputs": [],
   "source": [
    "Categaly_data = a.select_dtypes(include=['object']).columns\n",
    "a[Categaly_data] = Categaly_data"
   ]
  },
  {
   "cell_type": "code",
   "execution_count": 45,
   "id": "525085d6-875e-483c-83ce-73d7c99f2577",
   "metadata": {},
   "outputs": [],
   "source": [
    "l = LabelEncoder()\n",
    "a[Categaly_data] = a[Categaly_data].apply(l.fit_transform)"
   ]
  },
  {
   "cell_type": "code",
   "execution_count": 46,
   "id": "8dc1af83-aef6-4d8d-b86b-b58cca8e56cf",
   "metadata": {},
   "outputs": [
    {
     "data": {
      "text/html": [
       "<div>\n",
       "<style scoped>\n",
       "    .dataframe tbody tr th:only-of-type {\n",
       "        vertical-align: middle;\n",
       "    }\n",
       "\n",
       "    .dataframe tbody tr th {\n",
       "        vertical-align: top;\n",
       "    }\n",
       "\n",
       "    .dataframe thead th {\n",
       "        text-align: right;\n",
       "    }\n",
       "</style>\n",
       "<table border=\"1\" class=\"dataframe\">\n",
       "  <thead>\n",
       "    <tr style=\"text-align: right;\">\n",
       "      <th></th>\n",
       "      <th>age</th>\n",
       "      <th>workclass</th>\n",
       "      <th>fnlwgt</th>\n",
       "      <th>education</th>\n",
       "      <th>education.num</th>\n",
       "      <th>marital.status</th>\n",
       "      <th>occupation</th>\n",
       "      <th>relationship</th>\n",
       "      <th>race</th>\n",
       "      <th>sex</th>\n",
       "      <th>capital.gain</th>\n",
       "      <th>capital.loss</th>\n",
       "      <th>hours.per.week</th>\n",
       "      <th>native.country</th>\n",
       "      <th>income</th>\n",
       "    </tr>\n",
       "  </thead>\n",
       "  <tbody>\n",
       "    <tr>\n",
       "      <th>1</th>\n",
       "      <td>82</td>\n",
       "      <td>2</td>\n",
       "      <td>132870</td>\n",
       "      <td>11</td>\n",
       "      <td>9</td>\n",
       "      <td>6</td>\n",
       "      <td>3</td>\n",
       "      <td>1</td>\n",
       "      <td>4</td>\n",
       "      <td>0</td>\n",
       "      <td>0</td>\n",
       "      <td>4356</td>\n",
       "      <td>18</td>\n",
       "      <td>38</td>\n",
       "      <td>0</td>\n",
       "    </tr>\n",
       "    <tr>\n",
       "      <th>3</th>\n",
       "      <td>54</td>\n",
       "      <td>2</td>\n",
       "      <td>140359</td>\n",
       "      <td>5</td>\n",
       "      <td>4</td>\n",
       "      <td>0</td>\n",
       "      <td>6</td>\n",
       "      <td>4</td>\n",
       "      <td>4</td>\n",
       "      <td>0</td>\n",
       "      <td>0</td>\n",
       "      <td>3900</td>\n",
       "      <td>40</td>\n",
       "      <td>38</td>\n",
       "      <td>0</td>\n",
       "    </tr>\n",
       "    <tr>\n",
       "      <th>4</th>\n",
       "      <td>41</td>\n",
       "      <td>2</td>\n",
       "      <td>264663</td>\n",
       "      <td>15</td>\n",
       "      <td>10</td>\n",
       "      <td>5</td>\n",
       "      <td>9</td>\n",
       "      <td>3</td>\n",
       "      <td>4</td>\n",
       "      <td>0</td>\n",
       "      <td>0</td>\n",
       "      <td>3900</td>\n",
       "      <td>40</td>\n",
       "      <td>38</td>\n",
       "      <td>0</td>\n",
       "    </tr>\n",
       "    <tr>\n",
       "      <th>5</th>\n",
       "      <td>34</td>\n",
       "      <td>2</td>\n",
       "      <td>216864</td>\n",
       "      <td>11</td>\n",
       "      <td>9</td>\n",
       "      <td>0</td>\n",
       "      <td>7</td>\n",
       "      <td>4</td>\n",
       "      <td>4</td>\n",
       "      <td>0</td>\n",
       "      <td>0</td>\n",
       "      <td>3770</td>\n",
       "      <td>45</td>\n",
       "      <td>38</td>\n",
       "      <td>0</td>\n",
       "    </tr>\n",
       "    <tr>\n",
       "      <th>6</th>\n",
       "      <td>38</td>\n",
       "      <td>2</td>\n",
       "      <td>150601</td>\n",
       "      <td>0</td>\n",
       "      <td>6</td>\n",
       "      <td>5</td>\n",
       "      <td>0</td>\n",
       "      <td>4</td>\n",
       "      <td>4</td>\n",
       "      <td>1</td>\n",
       "      <td>0</td>\n",
       "      <td>3770</td>\n",
       "      <td>40</td>\n",
       "      <td>38</td>\n",
       "      <td>0</td>\n",
       "    </tr>\n",
       "    <tr>\n",
       "      <th>...</th>\n",
       "      <td>...</td>\n",
       "      <td>...</td>\n",
       "      <td>...</td>\n",
       "      <td>...</td>\n",
       "      <td>...</td>\n",
       "      <td>...</td>\n",
       "      <td>...</td>\n",
       "      <td>...</td>\n",
       "      <td>...</td>\n",
       "      <td>...</td>\n",
       "      <td>...</td>\n",
       "      <td>...</td>\n",
       "      <td>...</td>\n",
       "      <td>...</td>\n",
       "      <td>...</td>\n",
       "    </tr>\n",
       "    <tr>\n",
       "      <th>32556</th>\n",
       "      <td>22</td>\n",
       "      <td>2</td>\n",
       "      <td>310152</td>\n",
       "      <td>15</td>\n",
       "      <td>10</td>\n",
       "      <td>4</td>\n",
       "      <td>10</td>\n",
       "      <td>1</td>\n",
       "      <td>4</td>\n",
       "      <td>1</td>\n",
       "      <td>0</td>\n",
       "      <td>0</td>\n",
       "      <td>40</td>\n",
       "      <td>38</td>\n",
       "      <td>0</td>\n",
       "    </tr>\n",
       "    <tr>\n",
       "      <th>32557</th>\n",
       "      <td>27</td>\n",
       "      <td>2</td>\n",
       "      <td>257302</td>\n",
       "      <td>7</td>\n",
       "      <td>12</td>\n",
       "      <td>2</td>\n",
       "      <td>12</td>\n",
       "      <td>5</td>\n",
       "      <td>4</td>\n",
       "      <td>0</td>\n",
       "      <td>0</td>\n",
       "      <td>0</td>\n",
       "      <td>38</td>\n",
       "      <td>38</td>\n",
       "      <td>0</td>\n",
       "    </tr>\n",
       "    <tr>\n",
       "      <th>32558</th>\n",
       "      <td>40</td>\n",
       "      <td>2</td>\n",
       "      <td>154374</td>\n",
       "      <td>11</td>\n",
       "      <td>9</td>\n",
       "      <td>2</td>\n",
       "      <td>6</td>\n",
       "      <td>0</td>\n",
       "      <td>4</td>\n",
       "      <td>1</td>\n",
       "      <td>0</td>\n",
       "      <td>0</td>\n",
       "      <td>40</td>\n",
       "      <td>38</td>\n",
       "      <td>1</td>\n",
       "    </tr>\n",
       "    <tr>\n",
       "      <th>32559</th>\n",
       "      <td>58</td>\n",
       "      <td>2</td>\n",
       "      <td>151910</td>\n",
       "      <td>11</td>\n",
       "      <td>9</td>\n",
       "      <td>6</td>\n",
       "      <td>0</td>\n",
       "      <td>4</td>\n",
       "      <td>4</td>\n",
       "      <td>0</td>\n",
       "      <td>0</td>\n",
       "      <td>0</td>\n",
       "      <td>40</td>\n",
       "      <td>38</td>\n",
       "      <td>0</td>\n",
       "    </tr>\n",
       "    <tr>\n",
       "      <th>32560</th>\n",
       "      <td>22</td>\n",
       "      <td>2</td>\n",
       "      <td>201490</td>\n",
       "      <td>11</td>\n",
       "      <td>9</td>\n",
       "      <td>4</td>\n",
       "      <td>0</td>\n",
       "      <td>3</td>\n",
       "      <td>4</td>\n",
       "      <td>1</td>\n",
       "      <td>0</td>\n",
       "      <td>0</td>\n",
       "      <td>20</td>\n",
       "      <td>38</td>\n",
       "      <td>0</td>\n",
       "    </tr>\n",
       "  </tbody>\n",
       "</table>\n",
       "<p>30162 rows × 15 columns</p>\n",
       "</div>"
      ],
      "text/plain": [
       "       age  workclass  fnlwgt  education  education.num  marital.status  \\\n",
       "1       82          2  132870         11              9               6   \n",
       "3       54          2  140359          5              4               0   \n",
       "4       41          2  264663         15             10               5   \n",
       "5       34          2  216864         11              9               0   \n",
       "6       38          2  150601          0              6               5   \n",
       "...    ...        ...     ...        ...            ...             ...   \n",
       "32556   22          2  310152         15             10               4   \n",
       "32557   27          2  257302          7             12               2   \n",
       "32558   40          2  154374         11              9               2   \n",
       "32559   58          2  151910         11              9               6   \n",
       "32560   22          2  201490         11              9               4   \n",
       "\n",
       "       occupation  relationship  race  sex  capital.gain  capital.loss  \\\n",
       "1               3             1     4    0             0          4356   \n",
       "3               6             4     4    0             0          3900   \n",
       "4               9             3     4    0             0          3900   \n",
       "5               7             4     4    0             0          3770   \n",
       "6               0             4     4    1             0          3770   \n",
       "...           ...           ...   ...  ...           ...           ...   \n",
       "32556          10             1     4    1             0             0   \n",
       "32557          12             5     4    0             0             0   \n",
       "32558           6             0     4    1             0             0   \n",
       "32559           0             4     4    0             0             0   \n",
       "32560           0             3     4    1             0             0   \n",
       "\n",
       "       hours.per.week  native.country  income  \n",
       "1                  18              38       0  \n",
       "3                  40              38       0  \n",
       "4                  40              38       0  \n",
       "5                  45              38       0  \n",
       "6                  40              38       0  \n",
       "...               ...             ...     ...  \n",
       "32556              40              38       0  \n",
       "32557              38              38       0  \n",
       "32558              40              38       1  \n",
       "32559              40              38       0  \n",
       "32560              20              38       0  \n",
       "\n",
       "[30162 rows x 15 columns]"
      ]
     },
     "execution_count": 46,
     "metadata": {},
     "output_type": "execute_result"
    }
   ],
   "source": [
    "a"
   ]
  },
  {
   "cell_type": "code",
   "execution_count": 47,
   "id": "ebafae3f-58ba-4edd-8b44-aee076311ad4",
   "metadata": {},
   "outputs": [],
   "source": [
    "x = a.drop(columns=['income'])\n",
    "y = a['income']"
   ]
  },
  {
   "cell_type": "code",
   "execution_count": 48,
   "id": "6ec4913c-b254-4818-a8f0-7eae28eefdfa",
   "metadata": {},
   "outputs": [],
   "source": [
    "x_train,x_test,y_train,y_test = train_test_split(x,y,test_size=0.2)"
   ]
  },
  {
   "cell_type": "code",
   "execution_count": 52,
   "id": "e0e89be1-18c3-4fad-8fca-b59a85f545fb",
   "metadata": {},
   "outputs": [],
   "source": [
    "s = StandardScaler()\n",
    "x_train_scaled = s.fit_transform(x_train)\n",
    "x_test_scaled = s.transform(x_test)"
   ]
  },
  {
   "cell_type": "code",
   "execution_count": 50,
   "id": "6cfdf314-26c4-40e7-a886-b434b083d3ae",
   "metadata": {},
   "outputs": [],
   "source": [
    "pca = PCA(n_components=0.90)\n",
    "x_train_pca = pca.fit_transform(x_train_scaled)\n",
    "x_test_pca = pca.transform(x_test_scaled)"
   ]
  },
  {
   "cell_type": "code",
   "execution_count": 83,
   "id": "b2737c61-ad69-4e5d-96c1-8533b8aa1226",
   "metadata": {},
   "outputs": [
    {
     "data": {
      "text/plain": [
       "0.32073595226255597"
      ]
     },
     "execution_count": 83,
     "metadata": {},
     "output_type": "execute_result"
    }
   ],
   "source": [
    "l = KMeans(n_clusters=3, random_state=0)\n",
    "l.fit(x_train_pca,y_train)\n",
    "y_pred = l.predict(x_test_pca)\n",
    "accuracy_score(y_test,y_pred)"
   ]
  },
  {
   "cell_type": "code",
   "execution_count": 84,
   "id": "ea170c55-111f-4c7b-a34a-1f15f94adc8e",
   "metadata": {},
   "outputs": [
    {
     "data": {
      "text/plain": [
       "0.40974639482844355"
      ]
     },
     "execution_count": 84,
     "metadata": {},
     "output_type": "execute_result"
    }
   ],
   "source": [
    "l = KMeans(n_clusters=3, random_state=0)\n",
    "l.fit(x_train_scaled,y_train)\n",
    "y_pred = l.predict(x_test_scaled)\n",
    "accuracy_score(y_test,y_pred)"
   ]
  },
  {
   "cell_type": "code",
   "execution_count": 85,
   "id": "77d660b5-86a1-489c-a5b7-eb63e0bedcb7",
   "metadata": {},
   "outputs": [
    {
     "data": {
      "text/plain": [
       "0.39515995358859607"
      ]
     },
     "execution_count": 85,
     "metadata": {},
     "output_type": "execute_result"
    }
   ],
   "source": [
    "l = KMeans(n_clusters=3, random_state=0)\n",
    "l.fit(x_train,y_train)\n",
    "y_pred = l.predict(x_test)\n",
    "accuracy_score(y_test,y_pred)"
   ]
  },
  {
   "cell_type": "markdown",
   "id": "1b50f58b-78bc-40f7-8a5a-cf1cbf6a9f1e",
   "metadata": {},
   "source": [
    "## DecisionTreeClassifier ALGORITHM USED TRAIN STANDERSCALER AND PCA "
   ]
  },
  {
   "cell_type": "code",
   "execution_count": 71,
   "id": "a99b148f-8628-4b83-a1b5-2a608a361e5e",
   "metadata": {},
   "outputs": [
    {
     "data": {
      "text/plain": [
       "0.8501574672633847"
      ]
     },
     "execution_count": 71,
     "metadata": {},
     "output_type": "execute_result"
    }
   ],
   "source": [
    "d = DecisionTreeClassifier(max_depth=2)\n",
    "d.fit(x_train,y_train)\n",
    "y_pred = d.predict(x_test)\n",
    "accuracy_score(y_test,y_pred)\n"
   ]
  },
  {
   "cell_type": "code",
   "execution_count": 79,
   "id": "824afe5a-5c4e-451b-95a0-74912a9710c0",
   "metadata": {},
   "outputs": [
    {
     "data": {
      "image/png": "[encoded data removed]",
      "text/plain": [
       "<Figure size 640x480 with 1 Axes>"
      ]
     },
     "metadata": {},
     "output_type": "display_data"
    }
   ],
   "source": [
    "plot_tree(d)\n",
    "plt.show()"
   ]
  },
  {
   "cell_type": "code",
   "execution_count": 87,
   "id": "a14f8018-0892-469a-bce4-ff46bf1265b5",
   "metadata": {},
   "outputs": [],
   "source": [
    "models = {\n",
    "    'KMeans': KMeans(),\n",
    "    'DecisionTreeClassifier':DecisionTreeClassifier(),\n",
    "    'RandomForestClassifier':RandomForestClassifier(),\n",
    "    'Support Vector Machine':SVC()\n",
    "}"
   ]
  },
  {
   "cell_type": "markdown",
   "id": "6919ef69-caef-49e3-806e-ba396c5da1b7",
   "metadata": {},
   "source": [
    "## Used code for PCA MODEL"
   ]
  },
  {
   "cell_type": "code",
   "execution_count": 88,
   "id": "8c2f4fb9-b824-4118-bd3f-b97e76a5d9d7",
   "metadata": {},
   "outputs": [
    {
     "name": "stderr",
     "output_type": "stream",
     "text": [
      "C:\\Users\\adars\\anaconda3\\Lib\\site-packages\\sklearn\\metrics\\_classification.py:1517: UndefinedMetricWarning: Recall is ill-defined and being set to 0.0 in labels with no true samples. Use `zero_division` parameter to control this behavior.\n",
      "  _warn_prf(average, modifier, f\"{metric.capitalize()} is\", len(result))\n",
      "C:\\Users\\adars\\anaconda3\\Lib\\site-packages\\sklearn\\metrics\\_classification.py:1517: UndefinedMetricWarning: Recall is ill-defined and being set to 0.0 in labels with no true samples. Use `zero_division` parameter to control this behavior.\n",
      "  _warn_prf(average, modifier, f\"{metric.capitalize()} is\", len(result))\n",
      "C:\\Users\\adars\\anaconda3\\Lib\\site-packages\\sklearn\\metrics\\_classification.py:1517: UndefinedMetricWarning: Recall is ill-defined and being set to 0.0 in labels with no true samples. Use `zero_division` parameter to control this behavior.\n",
      "  _warn_prf(average, modifier, f\"{metric.capitalize()} is\", len(result))\n",
      "C:\\Users\\adars\\anaconda3\\Lib\\site-packages\\sklearn\\metrics\\_classification.py:1517: UndefinedMetricWarning: Recall is ill-defined and being set to 0.0 in labels with no true samples. Use `zero_division` parameter to control this behavior.\n",
      "  _warn_prf(average, modifier, f\"{metric.capitalize()} is\", len(result))\n",
      "C:\\Users\\adars\\anaconda3\\Lib\\site-packages\\sklearn\\metrics\\_classification.py:1517: UndefinedMetricWarning: Recall is ill-defined and being set to 0.0 in labels with no true samples. Use `zero_division` parameter to control this behavior.\n",
      "  _warn_prf(average, modifier, f\"{metric.capitalize()} is\", len(result))\n",
      "C:\\Users\\adars\\anaconda3\\Lib\\site-packages\\sklearn\\metrics\\_classification.py:1517: UndefinedMetricWarning: Recall is ill-defined and being set to 0.0 in labels with no true samples. Use `zero_division` parameter to control this behavior.\n",
      "  _warn_prf(average, modifier, f\"{metric.capitalize()} is\", len(result))\n"
     ]
    },
    {
     "name": "stdout",
     "output_type": "stream",
     "text": [
      "Model:KMeans\n",
      "              precision    recall  f1-score   support\n",
      "\n",
      "           0       0.76      0.03      0.06      4506\n",
      "           1       0.15      0.06      0.08      1527\n",
      "           2       0.00      0.00      0.00         0\n",
      "           3       0.00      0.00      0.00         0\n",
      "           4       0.00      0.00      0.00         0\n",
      "           5       0.00      0.00      0.00         0\n",
      "           6       0.00      0.00      0.00         0\n",
      "           7       0.00      0.00      0.00         0\n",
      "\n",
      "    accuracy                           0.04      6033\n",
      "   macro avg       0.11      0.01      0.02      6033\n",
      "weighted avg       0.61      0.04      0.07      6033\n",
      "\n",
      "------------------------------------------------------------\n",
      "Model:DecisionTreeClassifier\n",
      "              precision    recall  f1-score   support\n",
      "\n",
      "           0       0.85      0.85      0.85      4506\n",
      "           1       0.55      0.56      0.56      1527\n",
      "\n",
      "    accuracy                           0.77      6033\n",
      "   macro avg       0.70      0.70      0.70      6033\n",
      "weighted avg       0.78      0.77      0.78      6033\n",
      "\n",
      "------------------------------------------------------------\n",
      "Model:RandomForestClassifier\n",
      "              precision    recall  f1-score   support\n",
      "\n",
      "           0       0.87      0.93      0.89      4506\n",
      "           1       0.73      0.58      0.64      1527\n",
      "\n",
      "    accuracy                           0.84      6033\n",
      "   macro avg       0.80      0.75      0.77      6033\n",
      "weighted avg       0.83      0.84      0.83      6033\n",
      "\n",
      "------------------------------------------------------------\n",
      "Model:Support Vector Machine\n",
      "              precision    recall  f1-score   support\n",
      "\n",
      "           0       0.86      0.94      0.90      4506\n",
      "           1       0.76      0.54      0.63      1527\n",
      "\n",
      "    accuracy                           0.84      6033\n",
      "   macro avg       0.81      0.74      0.76      6033\n",
      "weighted avg       0.83      0.84      0.83      6033\n",
      "\n",
      "------------------------------------------------------------\n"
     ]
    }
   ],
   "source": [
    "result= {}\n",
    "pred = {}\n",
    "for name,models in models.items():\n",
    "    models.fit(x_train_pca,y_train)\n",
    "    y_pred = models.predict(x_test_pca)\n",
    "    result[name] = classification_report(y_test,y_pred,output_dict=True)\n",
    "    pred[name] =  y_pred\n",
    "    print(f\"Model:{name}\")\n",
    "    print(classification_report(y_test,y_pred))\n",
    "    print('-' * 60)"
   ]
  },
  {
   "cell_type": "markdown",
   "id": "2b932ef4-410b-4268-a672-9ad44d16d2f9",
   "metadata": {},
   "source": [
    "## StanderScaler"
   ]
  },
  {
   "cell_type": "code",
   "execution_count": 91,
   "id": "973b3a4f-494e-47ef-b24d-39e64dfa663e",
   "metadata": {},
   "outputs": [],
   "source": [
    "models4 = {\n",
    "    'KMeans':KMeans(),\n",
    "    'DecisionTreeClassifier':DecisionTreeClassifier(),\n",
    "    'RandomForestClassifier':RandomForestClassifier(),\n",
    "    'Support Vector Machine':SVC()\n",
    "}"
   ]
  },
  {
   "cell_type": "code",
   "execution_count": 92,
   "id": "f4be3f07-45f2-429e-bf56-2abd85d47132",
   "metadata": {},
   "outputs": [
    {
     "name": "stdout",
     "output_type": "stream",
     "text": [
      "Model:KMeans\n",
      "0.1677440742582463\n",
      "------------------------------------------------------------\n",
      "Model:DecisionTreeClassifier\n",
      "0.8103762638819825\n",
      "------------------------------------------------------------\n",
      "Model:RandomForestClassifier\n",
      "0.852312282446544\n",
      "------------------------------------------------------------\n",
      "Model:Support Vector Machine\n",
      "0.8436930217139068\n",
      "------------------------------------------------------------\n"
     ]
    }
   ],
   "source": [
    "result= {}\n",
    "pred = {}\n",
    "for name,models4 in models4.items():\n",
    "    models4.fit(x_train_scaled,y_train)\n",
    "    y_pred = models4.predict(x_test_scaled)\n",
    "    result[name] = accuracy_score(y_test,y_pred)\n",
    "    pred[name] =  y_pred\n",
    "    print(f\"Model:{name}\")\n",
    "    print(accuracy_score(y_test,y_pred))\n",
    "    print('-' * 60)\n",
    "    "
   ]
  },
  {
   "cell_type": "code",
   "execution_count": 97,
   "id": "74c8cf16-21c7-4b2c-9771-f29ac5c8d2a3",
   "metadata": {},
   "outputs": [],
   "source": [
    "model1 = pd.DataFrame(list(result.items()),columns=['Model','Accuracy'])"
   ]
  },
  {
   "cell_type": "code",
   "execution_count": 99,
   "id": "74b99403-4d0a-40a1-9cf7-74e1e35b140d",
   "metadata": {},
   "outputs": [
    {
     "data": {
      "application/vnd.jupyter.widget-view+json": {
       "model_id": "c4c6cf16263a4f7ebd81d0004966f990",
       "version_major": 2,
       "version_minor": 0
      },
      "text/plain": [
       "Summarize dataset:   0%|          | 0/5 [00:00<?, ?it/s]"
      ]
     },
     "metadata": {},
     "output_type": "display_data"
    },
    {
     "data": {
      "application/vnd.jupyter.widget-view+json": {
       "model_id": "84027f08d2424e6f881718dc9c0d284b",
       "version_major": 2,
       "version_minor": 0
      },
      "text/plain": [
       "Generate report structure:   0%|          | 0/1 [00:00<?, ?it/s]"
      ]
     },
     "metadata": {},
     "output_type": "display_data"
    },
    {
     "data": {
      "application/vnd.jupyter.widget-view+json": {
       "model_id": "5413a3abb8314a5eb8ff8420ccbb9cad",
       "version_major": 2,
       "version_minor": 0
      },
      "text/plain": [
       "Render HTML:   0%|          | 0/1 [00:00<?, ?it/s]"
      ]
     },
     "metadata": {},
     "output_type": "display_data"
    },
    {
     "data": {
      "application/vnd.jupyter.widget-view+json": {
       "model_id": "d61348f5b415426497afd306a1360bf5",
       "version_major": 2,
       "version_minor": 0
      },
      "text/plain": [
       "Export report to file:   0%|          | 0/1 [00:00<?, ?it/s]"
      ]
     },
     "metadata": {},
     "output_type": "display_data"
    }
   ],
   "source": [
    "from ydata_profiling import ProfileReport\n",
    "prof = ProfileReport(model1)\n",
    "prof.to_file(output_file='model1.html')"
   ]
  },
  {
   "cell_type": "code",
   "execution_count": null,
   "id": "5c993fba-f24b-4a1f-8143-94d1a94263db",
   "metadata": {},
   "outputs": [],
   "source": []
  }
 ],
 "metadata": {
  "kernelspec": {
   "display_name": "Python 3 (ipykernel)",
   "language": "python",
   "name": "python3"
  },
  "language_info": {
   "codemirror_mode": {
    "name": "ipython",
    "version": 3
   },
   "file_extension": ".py",
   "mimetype": "text/x-python",
   "name": "python",
   "nbconvert_exporter": "python",
   "pygments_lexer": "ipython3",
   "version": "3.11.5"
  }
 },
 "nbformat": 4,
 "nbformat_minor": 5
}
